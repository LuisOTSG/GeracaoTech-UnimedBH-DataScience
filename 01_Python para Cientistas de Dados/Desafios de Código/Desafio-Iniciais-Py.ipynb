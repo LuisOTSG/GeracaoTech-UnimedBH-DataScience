{
 "cells": [
  {
   "cell_type": "markdown",
   "id": "c3034958",
   "metadata": {},
   "source": [
    "# Desafios Iniciais Py - Unimed BH"
   ]
  },
  {
   "cell_type": "markdown",
   "id": "6a65a6ec",
   "metadata": {},
   "source": [
    "## Desafio 1/3 - As Duas Torres"
   ]
  },
  {
   "cell_type": "markdown",
   "id": "886f8fdc",
   "metadata": {},
   "source": [
    "Saruman, o Branco, um grande mago da Terra-média, traiu os bons costumes e se filiou ao lorde do mal, Sauron. Sauron comanda a torre de Minas Morgul, que abriga um dos seus mais temidos servos, o Rei Bruxo de Angmar, um dos Nazgûl (antigos reis humanos que foram corrompidos pelos poderes dos anéis de Sauron). Saruman comanda a torre de Orthanc, onde cria seus servos Uruk-hai, orcs mais terríveis que os convencionais. Para comunicação, eles utilizam as relíquias esféricas chamadas Palantír, que ficam no topo de suas torres.\n",
    "A Terra-média avança cada vez mais em tecnologia, muito impulsionada pelas guerras que a acometem diariamente. Um dos problemas que tem atrapalhado sua população é a Interferência de Comunicação Mágica (ICM). Os estudiosos de Minas Tirith, grande cidadela de Gondor, concluíram que para calcular o ICM para Palantír’s, basta dividir a distância entre os dois Palantír’s, pela soma do diâmetro dos mesmos. Gandalf, o Cinza, chegou a questionar essa conclusão, alegando que ela não fazia muito sentido, mas ele mesmo concluiu que dar sentido às coisas não faz sentido.\n",
    "Saruman e Sauron precisam de uma comunicação estável, pois têm medo que Frodo e seus amigos consigam atrapalhar seus planos, portanto, querem saber quanto de ICM há na comunicação de seus Palantír’s, para que saibam quanto de magia devem empregar na comunicação."
   ]
  },
  {
   "cell_type": "markdown",
   "id": "b7f96a9a",
   "metadata": {},
   "source": [
    "### Entrada"
   ]
  },
  {
   "cell_type": "markdown",
   "id": "43236edc",
   "metadata": {},
   "source": [
    "A entrada é composta por 3 inteiros, N(0 < N < 10000), X e Y(0 < X, Y < 100), que indicam, respectivamente, a distância entre os Palantír, o diâmetro do Palantír de Sauron e o diâmetro do Palantír de Saruman."
   ]
  },
  {
   "cell_type": "markdown",
   "id": "5309361b",
   "metadata": {},
   "source": [
    "### Saída"
   ]
  },
  {
   "cell_type": "markdown",
   "id": "e3f5d771",
   "metadata": {},
   "source": [
    "Um valor real indicando o ICM da comunicação dos Palatír de Sauron e Saruman, com 2 casas decimais."
   ]
  },
  {
   "cell_type": "code",
   "execution_count": null,
   "id": "93d72ae3",
   "metadata": {},
   "outputs": [],
   "source": [
    "# DICAS SOBRE PYTHON:\n",
    "# FUNÇÃO input(): Ela recebe como parâmetro uma String que será visível ao usuário, \n",
    "# onde geralmente informa que tipo de informação ele está esperando receber;\n",
    "# FUNÇÃO print(): Ela é a responsável por imprimir os dados e informar os valores no terminal;\n",
    "# MÉTODO split(): permite dividir o conteúdo da variável de acordo com as condições especificadas \n",
    "# em cada parâmetro da função ou com os valores predefinidos por padrão;\n",
    "\n",
    "# Abaixo segue um exemplo de código que você pode ou não utilizar\n",
    "\n",
    "#entrada = input().split()\n",
    "#distancia = int(entrada[0])\n",
    "#diametro1 = int(entrada[1])\n",
    "#diametro2 = int(entrada[2])\n",
    "\n",
    "# TODO: Calcule o ICM da comunicação dos Palatír de Sauron e Saruman, com 2 casas decimais no espaço\n",
    "# em branco abaixo:"
   ]
  },
  {
   "cell_type": "code",
   "execution_count": null,
   "id": "99fea6b7",
   "metadata": {},
   "outputs": [],
   "source": [
    "# Método 1:\n",
    "entrada = list(input().split(\" \"))\n",
    "distancia = int(entrada[0])\n",
    "diametro1 = int(entrada[1])\n",
    "diametro2 = int(entrada[2])\n",
    "\n",
    "def icm_2():\n",
    "    return distancia / (diametro1 + diametro2)\n",
    "\n",
    "print(f\"{icm():.2f}\")"
   ]
  },
  {
   "cell_type": "code",
   "execution_count": null,
   "id": "56c116a7",
   "metadata": {},
   "outputs": [],
   "source": [
    "# Método 2:\n",
    "usuario_digita = input(\"Digite a distância entre os Palantír's e o diâmetro dos mesmos: \")\n",
    "valores = list(usuario_digita.split(\" \"))\n",
    "\n",
    "distancia_2 = int(valores[0])\n",
    "diametro_1 = int(valores[1])\n",
    "diametro_2 = int(valores[2])\n",
    "\n",
    "def icm_1():\n",
    "    return distancia_1 / (diametro_1 + diametro_2)\n",
    "\n",
    "print(f\"ICM na Comunicação: {icm_1():.2f}\")"
   ]
  },
  {
   "cell_type": "markdown",
   "id": "04419e13",
   "metadata": {},
   "source": [
    "## Desafio 2/3 - Cachorros-Quentes"
   ]
  },
  {
   "cell_type": "markdown",
   "id": "f110df24",
   "metadata": {},
   "source": [
    "Em 2012 foi alcançado um novo recorde mundial na famosa Competição de Cachorros-Quentes do Nathan: o campeão, Joey Chestnut, devorou 68 cachorros-quentes em dez minutos, um aumento incrível em relação aos 62 sanduíches devorados pelo mesmo Chestnut em 2011.\n",
    "\n",
    "O restaurante Nathan’s Famous Corporation, localizado no Brooklyn, NY, é o responsável pela competição. Eles produzem deliciosos cachorros-quentes, mundialmente famosos, mas quando o assunto é matemática eles não são tão bons. Eles desejam ser listados no Livro de Recordes do Guinness, mas para isso devem preencher um formulário descrevendo os fatos básicos da competição. Em particular, eles devem informar o número médio de cachorros-quentes consumidos pelos participantes durante a competição.\n",
    "\n",
    "Você pode ajudá-los? Eles prometeram pagá-lo com um dos seus saborosos cachorros-quentes. Dados o número total de cachorros-quentes consumidos e o número total de participantes na competição, você deve escrever um programa para determinar o número médio de cachorros-quentes consumidos pelos participantes."
   ]
  },
  {
   "cell_type": "markdown",
   "id": "f181c36c",
   "metadata": {},
   "source": [
    "### Entrada"
   ]
  },
  {
   "cell_type": "markdown",
   "id": "b45997bb",
   "metadata": {},
   "source": [
    "A entrada consiste de uma única linha que contém dois inteiros H e P (1 ≤ H, P ≤ 1000) indicando respectivamente o número total de cachorros-quentes consumidos e o número total de participantes na competição"
   ]
  },
  {
   "cell_type": "markdown",
   "id": "7448dcb4",
   "metadata": {},
   "source": [
    "### Saída"
   ]
  },
  {
   "cell_type": "markdown",
   "id": "eaf10e02",
   "metadata": {},
   "source": [
    "Seu programa deve produzir uma única linha com um número racional representando o número médio de cachorros-quentes consumidos pelos participantes. O resultado deve ser escrito como um número racional com exatamente dois dígitos após o ponto decimal, arredondado se necessário"
   ]
  },
  {
   "cell_type": "code",
   "execution_count": null,
   "id": "a09f5ac7",
   "metadata": {},
   "outputs": [],
   "source": [
    "# DICAS SOBRE PYTHON:\n",
    "# FUNÇÃO input(): Ela recebe como parâmetro uma String que será visível ao usuário, \n",
    "# onde geralmente informa que tipo de informação ele está esperando receber;\n",
    "# FUNÇÃO print(): Ela é a responsável por imprimir os dados e informar os valores no terminal;\n",
    "# MÉTODO split(): permite dividir o conteúdo da variável de acordo com as condições especificadas \n",
    "# em cada parâmetro da função ou com os valores predefinidos por padrão;\n",
    "\n",
    "# Abaixo segue um exemplo de código que você pode ou não utilizar\n",
    "# valores = input().split() \n",
    "\n",
    "# TODO:  Calcule a média de cachorros quentes consumidas por participante e imprima o valor com DUAS casas decimais."
   ]
  },
  {
   "cell_type": "code",
   "execution_count": null,
   "id": "f296dfc0",
   "metadata": {},
   "outputs": [],
   "source": [
    "# Método 1:\n",
    "valores = list(input().split(\" \"))\n",
    "n_participantes = int(valores[0])\n",
    "qtd_hotdog = int(valores[1])\n",
    "\n",
    "def media_hotdog():\n",
    "    return n_participantes / qtd_hotdog\n",
    "\n",
    "print(f\"{media_hotdog():.2f}\")"
   ]
  },
  {
   "cell_type": "code",
   "execution_count": null,
   "id": "4f3966f0",
   "metadata": {},
   "outputs": [],
   "source": [
    "# Método 2:\n",
    "usuario_digita_2 = input(\"Digite o número de participantes e a quantidade de hotdgos devorados no total: \")\n",
    "valores = list(usuario_digita_2.split(\" \"))\n",
    "\n",
    "num_participantes = int(valores[0])\n",
    "qtde_hotdog = int(valores[1])\n",
    "\n",
    "def media_hotdog():\n",
    "    return num_participantes / qtde_hotdog\n",
    "\n",
    "print(f\"Média de hotdogs devorados por participante: {media_hotdog():.2f}\")"
   ]
  },
  {
   "cell_type": "markdown",
   "id": "4f08781e",
   "metadata": {},
   "source": [
    "## Desafio 3/3 - Cálculo de Viagem"
   ]
  },
  {
   "cell_type": "markdown",
   "id": "7c992803",
   "metadata": {},
   "source": [
    "## Desafio"
   ]
  },
  {
   "cell_type": "markdown",
   "id": "41df2167",
   "metadata": {},
   "source": [
    "Rubens quer calcular e mostrar a quantidade de litros de combustível gastos em uma viagem de carro, sendo que seu carro faz 12 KM/L. Como ele não sabe fazer um programa que o auxilie nessa missão, ele te pede ajuda. Para efetuar o cálculo, deve-se fornecer o tempo gasto em horas na viagem e a velocidade média durante a mesma em km/h. Assim, você conseguirá passar para Rubens qual a distância percorrida e, em seguida, calcular quantos litros serão necessários para a viagem que ele quer fazer. Mostre o valor com 3 casas decimais após o ponto."
   ]
  },
  {
   "cell_type": "markdown",
   "id": "71ea5e56",
   "metadata": {},
   "source": [
    "### Entrada"
   ]
  },
  {
   "cell_type": "markdown",
   "id": "89febe46",
   "metadata": {},
   "source": [
    "O arquivo de entrada contém dois inteiros. O primeiro é o tempo gasto na viagem em horas e o segundo é a velocidade média durante a mesma em km/h."
   ]
  },
  {
   "cell_type": "markdown",
   "id": "5793eca7",
   "metadata": {},
   "source": [
    "### Saída"
   ]
  },
  {
   "cell_type": "markdown",
   "id": "728d62e3",
   "metadata": {},
   "source": [
    "Imprima a quantidade de litros necessária para realizar a viagem, com três dígitos após o ponto decimal"
   ]
  },
  {
   "cell_type": "code",
   "execution_count": null,
   "id": "ca7180ed",
   "metadata": {},
   "outputs": [],
   "source": [
    "# DICAS SOBRE PYTHON:\n",
    "# FUNÇÃO input(): Ela recebe como parâmetro uma String que será visível ao usuário, \n",
    "# onde geralmente informa que tipo de informação ele está esperando receber;\n",
    "# FUNÇÃO print(): Ela é a responsável por imprimir os dados e informar os valores no terminal;\n",
    "# MÉTODO split(): permite dividir o conteúdo da variável de acordo com as condições especificadas \n",
    "# em cada parâmetro da função ou com os valores predefinidos por padrão;\n",
    "\n",
    "# Abaixo segue um exemplo de código que você pode ou não utilizar\n",
    "# valores = input().split()\n",
    "\n",
    "# TODO:  Calcule quantidade de litros necessária para realizar a viagem e imprima com TRÊS dígitos após o ponto decimal"
   ]
  },
  {
   "cell_type": "code",
   "execution_count": null,
   "id": "8b001de1",
   "metadata": {},
   "outputs": [],
   "source": [
    "# Método 1:\n",
    "valores = list(input().split(\" \"))\n",
    "tempo_em_horas = int(valores[0])\n",
    "velocidade_media = int(valores[1])\n",
    "\n",
    "def qtd_litros():\n",
    "    return (velocidade_media * tempo_em_horas) / 12\n",
    "\n",
    "print(f\"{qtd_litros():.3f}\")"
   ]
  },
  {
   "cell_type": "code",
   "execution_count": null,
   "id": "5e5bb681",
   "metadata": {},
   "outputs": [],
   "source": [
    "# Método 2:\n",
    "usuario_digita_3 = input(\"Digite o tempo gasto em horas e a velocidade média percorrida na viagem: \")\n",
    "valores = list(usuario_digita_3.split(\" \"))\n",
    "\n",
    "tempo_em_horas = int(valores[0])\n",
    "velocidade_media = int(valores[1])\n",
    "\n",
    "def qtd_litros():\n",
    "    return (tempo_em_horas * velocidade_media) / 12\n",
    "\n",
    "print(f\"Quantidade em litros de combustível: {qtd_litros():.3f}\")"
   ]
  }
 ],
 "metadata": {
  "kernelspec": {
   "display_name": "Python 3 (ipykernel)",
   "language": "python",
   "name": "python3"
  },
  "language_info": {
   "codemirror_mode": {
    "name": "ipython",
    "version": 3
   },
   "file_extension": ".py",
   "mimetype": "text/x-python",
   "name": "python",
   "nbconvert_exporter": "python",
   "pygments_lexer": "ipython3",
   "version": "3.9.7"
  }
 },
 "nbformat": 4,
 "nbformat_minor": 5
}
