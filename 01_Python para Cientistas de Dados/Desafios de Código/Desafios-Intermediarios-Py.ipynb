{
 "cells": [
  {
   "cell_type": "markdown",
   "id": "05875c25",
   "metadata": {},
   "source": [
    "# Desafios Intermediários Py - Unimed BH"
   ]
  },
  {
   "cell_type": "markdown",
   "id": "3d65f328",
   "metadata": {},
   "source": [
    "## Desafio 1/3 - Alfabeto"
   ]
  },
  {
   "cell_type": "markdown",
   "id": "949f6972",
   "metadata": {},
   "source": [
    "Dada a letra N do alfabeto, nos diga qual a sua posição."
   ]
  },
  {
   "cell_type": "markdown",
   "id": "927a76e3",
   "metadata": {},
   "source": [
    "### Entrada"
   ]
  },
  {
   "cell_type": "markdown",
   "id": "28b3c104",
   "metadata": {},
   "source": [
    "Um único caracter N, uma letra maiúscula ('A'-'Z') do alfabeto (que contém 26 letras)."
   ]
  },
  {
   "cell_type": "markdown",
   "id": "98ab64c2",
   "metadata": {},
   "source": [
    "### Saída"
   ]
  },
  {
   "cell_type": "markdown",
   "id": "bc5fdae9",
   "metadata": {},
   "source": [
    "Um único inteiro, que representa a posição da letra no alfabeto."
   ]
  },
  {
   "cell_type": "code",
   "execution_count": null,
   "id": "806badc2",
   "metadata": {},
   "outputs": [],
   "source": [
    "# DICAS SOBRE PYTHON:\n",
    "# FUNÇÃO input(): Ela recebe como parâmetro uma String que será visível ao usuário, \n",
    "# onde geralmente informa que tipo de informação ele está esperando receber;\n",
    "# FUNÇÃO print(): Ela é a responsável por imprimir os dados e informar os valores no terminal;\n",
    "# MÉTODO ord(): Retorna o valor  ASCII de cada letra ou símbolo do teclado;\n",
    "\n",
    "# letra = input() \n",
    "\n",
    "\n",
    "# TODO: De acordo com a entrada, imprima a posição dessa letra no Alfabeto;"
   ]
  },
  {
   "cell_type": "code",
   "execution_count": null,
   "id": "f6ceed1d",
   "metadata": {},
   "outputs": [],
   "source": [
    "# Método 1:\n",
    "letra = input()\n",
    "print(int(ord(letra)) - 64)"
   ]
  },
  {
   "cell_type": "code",
   "execution_count": null,
   "id": "e7f870f8",
   "metadata": {
    "scrolled": true
   },
   "outputs": [],
   "source": [
    "# Método 2:\n",
    "import string\n",
    "letra_alfabeto = input() \n",
    "letra_maiusculo = letra.lower()\n",
    "alfabeto =  list(string.ascii_lowercase)\n",
    "if letra_maiusculo in alfabeto:\n",
    "    posicao = (alfabeto.index(letra_maiusculo))\n",
    "    posicao+=1\n",
    "print(posicao)"
   ]
  },
  {
   "cell_type": "markdown",
   "id": "f145db35",
   "metadata": {},
   "source": [
    "## Desafio 2/3 - Papagaio Poliglota"
   ]
  },
  {
   "cell_type": "markdown",
   "id": "bd390e45",
   "metadata": {},
   "source": [
    "Humberto tem um papagaio muito esperto. Quando está com as duas pernas no chão, o papagaio fala em português. Quando levanta a perna esquerda, fala em inglês. Por fim, quando levanta a direita fala em francês. Nico, amigo de Humberto, ficou fascinado com o animal. Em sua emoção perguntou: “E quando ele levanta as duas?”. Antes que Humberto pudesse responder, o papagaio gritou: “Aí eu caio, idiota!”."
   ]
  },
  {
   "cell_type": "markdown",
   "id": "80559861",
   "metadata": {},
   "source": [
    "### Entrada"
   ]
  },
  {
   "cell_type": "markdown",
   "id": "8b0f5fab",
   "metadata": {},
   "source": [
    "A entrada consiste de diversos casos de teste. Cada caso de teste consiste uma string informando qual a situação de levantamento de pernas do papagaio."
   ]
  },
  {
   "cell_type": "markdown",
   "id": "e04b2094",
   "metadata": {},
   "source": [
    "### Saída"
   ]
  },
  {
   "cell_type": "markdown",
   "id": "6013ec62",
   "metadata": {},
   "source": [
    "Para cada condição de levantamento de pernas do papagaio, imprima a linguagem que ele utilizará. Caso ele levante ambas as pernas, imprima “caiu”. Quebre uma linha a cada caso de teste."
   ]
  },
  {
   "cell_type": "code",
   "execution_count": null,
   "id": "5ffdb9ae",
   "metadata": {},
   "outputs": [],
   "source": [
    "# DICAS SOBRE PYTHON:\n",
    "# FUNÇÃO input(): Ela recebe como parâmetro uma String que será visível ao usuário, \n",
    "# onde geralmente informa que tipo de informação ele está esperando receber;\n",
    "# FUNÇÃO print(): Ela é a responsável por imprimir os dados e informar os valores no terminal;\n",
    "# MÉTODO split(): permite dividir o conteúdo da variável de acordo com as condições especificadas \n",
    "# em cada parâmetro da função ou com os valores predefinidos por padrão;\n",
    "# while True significa que, enquanto houver entradas, o código após o try continuará sendo executado\n",
    "\n",
    "\n",
    "# while True: \n",
    "    # try: \n",
    "           # TODO:  Programe aqui dentro as condições necessárias para satisfazer o problema\n",
    "           # e imprima a saída de acordo com a situação das pernas do papagaio\n",
    "    # except EOFError: \n",
    "        # break"
   ]
  },
  {
   "cell_type": "code",
   "execution_count": null,
   "id": "a90c3a8b",
   "metadata": {},
   "outputs": [],
   "source": [
    "while True:\n",
    "    try:\n",
    "        linguagem = input()\n",
    "        if linguagem == \"esquerda\":\n",
    "            print(\"ingles\")\n",
    "        if linguagem == \"direita\":\n",
    "            print(\"frances\")\n",
    "        if linguagem == \"nenhuma\":\n",
    "            print(\"portugues\")\n",
    "        if linguagem == \"ambas\":\n",
    "            print(\"caiu\")\n",
    "    except EOFError:\n",
    "        break"
   ]
  },
  {
   "cell_type": "markdown",
   "id": "68379af0",
   "metadata": {},
   "source": [
    "## Desafio 3/3 - Aumento Salarial"
   ]
  },
  {
   "cell_type": "markdown",
   "id": "0a669eaa",
   "metadata": {},
   "source": [
    "A empresa que você trabalha resolveu conceder um aumento salarial a todos funcionários, de acordo com a tabela abaixo:"
   ]
  },
  {
   "cell_type": "code",
   "execution_count": null,
   "id": "87905702",
   "metadata": {},
   "outputs": [],
   "source": [
    "# Salário            Percentual de Reajuste\n",
    "# 0 - 600.00         17%\n",
    "# 600.01 - 900.00    13%\n",
    "# 900.01 - 1500.00   12%\n",
    "# 1500.01 - 2000.00  10%\n",
    "# Acima de 2000.00   5%"
   ]
  },
  {
   "cell_type": "markdown",
   "id": "2cf04ee4",
   "metadata": {},
   "source": [
    "Leia o salário do funcionário e calcule e mostre o novo salário, bem como o valor de reajuste ganho e o índice reajustado, em percentual.\n",
    "\n",
    "A entrada contém apenas um valor de ponto flutuante, que pode ser maior ou igual a zero, com duas casas decimais, conforme exemplos abaixo."
   ]
  },
  {
   "cell_type": "code",
   "execution_count": null,
   "id": "6aa7a52c",
   "metadata": {},
   "outputs": [],
   "source": [
    "# DICAS SOBRE PYTHON:\n",
    "# FUNÇÃO input(): Ela recebe como parâmetro uma String que será visível ao usuário, \n",
    "# onde geralmente informa que tipo de informação ele está esperando receber;\n",
    "# FUNÇÃO print(): Ela é a responsável por imprimir os dados e informar os valores no terminal;\n",
    "# MÉTODO split(): permite dividir o conteúdo da variável de acordo com as condições especificadas \n",
    "# em cada parâmetro da função ou com os valores predefinidos por padrão;\n",
    "\n",
    "# Abaixo segue um exemplo de código que você pode ou não utilizar\n",
    "# salario = int(input()) \n",
    "\n",
    "# if (  )\n",
    "\n",
    "# elif (  )\n",
    "\n",
    "# elif (  )\n",
    "\n",
    "# elif (  )\n",
    "\n",
    "# else: \n",
    "\n",
    "\n",
    "# TODO:  Calcule o salário do funcionário e print o novo salário, bem como o valor de reajuste ganho e o índice reajustado (em porcentagem)"
   ]
  },
  {
   "cell_type": "code",
   "execution_count": null,
   "id": "c533eb8d",
   "metadata": {},
   "outputs": [],
   "source": [
    "salario = int(input())\n",
    "if salario < 0:\n",
    "    percentual = 0\n",
    "elif salario <= 600:\n",
    "    percentual = 17\n",
    "    reajuste = (salario * percentual) / 100\n",
    "    novo_salario = salario + reajuste\n",
    "elif salario <= 900:\n",
    "    percentual = 13\n",
    "    reajuste = (salario * percentual) / 100\n",
    "    novo_salario = salario + reajuste\n",
    "elif salario <= 1500:\n",
    "    percentual = 12\n",
    "    reajuste = (salario * percentual) / 100\n",
    "    novo_salario = salario + reajuste\n",
    "elif salario <= 2000:\n",
    "    percentual = 10\n",
    "    reajuste = (salario * percentual) / 100\n",
    "    novo_salario = salario + reajuste\n",
    "else:\n",
    "    percentual = 5\n",
    "    reajuste = (salario * percentual) / 100\n",
    "    novo_salario = salario + reajuste\n",
    "\n",
    "print(f\"Novo salario: {novo_salario:.2f} Reajuste ganho: {reajuste:.2f} Em percentual: {percentual} %\")"
   ]
  },
  {
   "cell_type": "code",
   "execution_count": null,
   "id": "ba3da720",
   "metadata": {},
   "outputs": [],
   "source": [
    "# Método 2:\n",
    "salario = int(input())\n",
    "\n",
    "def aumento_salarial(salario):\n",
    "    reajuste = 0\n",
    "    if salario <= 600:\n",
    "        reajuste = 17\n",
    "    elif salario <= 900:\n",
    "        reajuste = 13\n",
    "    elif salario <= 1500:\n",
    "        reajuste = 12\n",
    "    elif salario <= 2000:\n",
    "        reajuste = 10\n",
    "    else:\n",
    "        reajuste = 5\n",
    "    return reajuste\n",
    "\n",
    "\n",
    "reajuste = aumento_salarial(salario)\n",
    "reajuste_ganho = (salario * reajuste) / 100\n",
    "print(f\"Novo salario: {(salario + reajuste_ganho):.2f} Reajuste ganho: {reajuste_ganho:.2f} Em percentual: {reajuste} %\")"
   ]
  }
 ],
 "metadata": {
  "kernelspec": {
   "display_name": "Python 3 (ipykernel)",
   "language": "python",
   "name": "python3"
  },
  "language_info": {
   "codemirror_mode": {
    "name": "ipython",
    "version": 3
   },
   "file_extension": ".py",
   "mimetype": "text/x-python",
   "name": "python",
   "nbconvert_exporter": "python",
   "pygments_lexer": "ipython3",
   "version": "3.9.7"
  }
 },
 "nbformat": 4,
 "nbformat_minor": 5
}
