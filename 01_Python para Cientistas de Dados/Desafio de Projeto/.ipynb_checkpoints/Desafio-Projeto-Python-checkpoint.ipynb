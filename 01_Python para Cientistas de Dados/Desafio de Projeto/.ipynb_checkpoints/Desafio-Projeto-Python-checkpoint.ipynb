{
 "cells": [
  {
   "cell_type": "markdown",
   "id": "477349d8",
   "metadata": {},
   "source": [
    "# Desafio de Projeto - Análise de Dados com Pandas"
   ]
  },
  {
   "cell_type": "markdown",
   "id": "c2735dc1",
   "metadata": {},
   "source": [
    "## Apresentação do Projeto"
   ]
  },
  {
   "cell_type": "code",
   "execution_count": null,
   "id": "d18fb8ba",
   "metadata": {},
   "outputs": [],
   "source": []
  },
  {
   "cell_type": "markdown",
   "id": "d69b6aaa",
   "metadata": {},
   "source": [
    "## Python Básico"
   ]
  },
  {
   "cell_type": "code",
   "execution_count": null,
   "id": "01673ff4",
   "metadata": {},
   "outputs": [],
   "source": []
  },
  {
   "cell_type": "markdown",
   "id": "343ae4b2",
   "metadata": {},
   "source": [
    "## Estrutura de Dados"
   ]
  },
  {
   "cell_type": "code",
   "execution_count": null,
   "id": "7a4995b5",
   "metadata": {},
   "outputs": [],
   "source": []
  },
  {
   "cell_type": "markdown",
   "id": "d3afaee9",
   "metadata": {},
   "source": [
    "## Introdução à biblioteca Pandas"
   ]
  },
  {
   "cell_type": "code",
   "execution_count": null,
   "id": "4144c09e",
   "metadata": {},
   "outputs": [],
   "source": []
  },
  {
   "cell_type": "markdown",
   "id": "3ebada76",
   "metadata": {},
   "source": [
    "## Trabalhando com Planilhas do Excel"
   ]
  },
  {
   "cell_type": "code",
   "execution_count": null,
   "id": "4130eccd",
   "metadata": {},
   "outputs": [],
   "source": []
  },
  {
   "cell_type": "markdown",
   "id": "f9bb8664",
   "metadata": {},
   "source": [
    "## Trabalhando com datas"
   ]
  },
  {
   "cell_type": "code",
   "execution_count": null,
   "id": "fb3544bb",
   "metadata": {},
   "outputs": [],
   "source": []
  },
  {
   "cell_type": "markdown",
   "id": "c681fd67",
   "metadata": {},
   "source": [
    "## Visualização de dados"
   ]
  },
  {
   "cell_type": "code",
   "execution_count": null,
   "id": "57bcb860",
   "metadata": {},
   "outputs": [],
   "source": []
  },
  {
   "cell_type": "markdown",
   "id": "21cea51f",
   "metadata": {},
   "source": [
    "## Análise Exploratória"
   ]
  },
  {
   "cell_type": "code",
   "execution_count": null,
   "id": "80a192db",
   "metadata": {},
   "outputs": [],
   "source": []
  }
 ],
 "metadata": {
  "kernelspec": {
   "display_name": "Python 3 (ipykernel)",
   "language": "python",
   "name": "python3"
  },
  "language_info": {
   "codemirror_mode": {
    "name": "ipython",
    "version": 3
   },
   "file_extension": ".py",
   "mimetype": "text/x-python",
   "name": "python",
   "nbconvert_exporter": "python",
   "pygments_lexer": "ipython3",
   "version": "3.9.7"
  }
 },
 "nbformat": 4,
 "nbformat_minor": 5
}
